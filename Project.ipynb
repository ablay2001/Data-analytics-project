{
 "cells": [
  {
   "cell_type": "markdown",
   "metadata": {},
   "source": [
    "# Analysis of Top 100 Chess Players Historical"
   ]
  },
  {
   "cell_type": "markdown",
   "metadata": {},
   "source": [
    "### Content:\n",
    "1. Introduction\n",
    "2. Data description and objectives\n",
    "3. Research questions\n",
    "4. Data cleaning and shaping\n"
   ]
  },
  {
   "cell_type": "markdown",
   "metadata": {},
   "source": [
    "## 1.Introduction: Top 100 chess players\n"
   ]
  },
  {
   "cell_type": "markdown",
   "metadata": {},
   "source": [
    "The Fédération Internationale des Échecs (FIDE) governs international chess competition. Each month, FIDE publishes the lists \"Top 100 Players\", \"Top 100 Women\", \"Top 100 Juniors\" and \"Top 100 Girls\", as well as rankings of countries according to the average rating of their top 10 players and top 10 female players. The Elo rating system is used.\n",
    " The Elo rating system was developed by the Hungarian physicist Arpad Elo in the 1950's and adopted by the world chess federation (FIDE) in 1970.  For more than four decades the FIDE Elo system has served as the primary yardstick in the world for measuring the strength of chess players.  FIDE ratings are used for determining invitations to chess tournaments including the world championship cycle, calculating specific pairings in most chess tournaments, and granting titles such as International Master (IM) or Grandmaster (GM).  In fact the Elo system is so popular that it has been adapted to many other applications beyond chess, including team sports rankings, other board games, and online video game systems.\n",
    "\n",
    "Source(https://en.wikipedia.org/wiki/FIDE_world_rankings)\n",
    "(https://en.wikipedia.org/wiki/Elo_rating_system)\n"
   ]
  },
  {
   "cell_type": "markdown",
   "metadata": {},
   "source": [
    "## 2.Data descriptions and objectives"
   ]
  },
  {
   "cell_type": "markdown",
   "metadata": {},
   "source": [
    "My analysis was based on period from July 2000 and June 2017. Below is data that i will use for my analysis:\n",
    "+ Ranking date - date of ranking \n",
    "+ Rank - position in the list\n",
    "+ Name - name of player\n",
    "+ Title - title of a player (g - Grand Master, wg - Women Grand Master)\n",
    "+ Country - country of birth\n",
    "+ Rating - standard rating\n",
    "+ Games - games played\n",
    "\n"
   ]
  },
  {
   "cell_type": "markdown",
   "metadata": {},
   "source": [
    "## 3.Research questions\n",
    "\n",
    "\n"
   ]
  },
  {
   "cell_type": "markdown",
   "metadata": {},
   "source": [
    "For these project i prepare 5 main things that me gonna analyze:\n",
    "1. Analyze in what time period were they ranked\n",
    "2. Analyze rating change \n",
    "3. Analyze belonging to the countries\n",
    "4. Analyze number of played games \n",
    "5. Analyze player's title"
   ]
  },
  {
   "cell_type": "markdown",
   "metadata": {},
   "source": [
    "## 4.Data cleaning and shaping\n"
   ]
  },
  {
   "cell_type": "markdown",
   "metadata": {},
   "source": [
    "In this part, i drop not necessary columns and check my dataset for null values."
   ]
  },
  {
   "cell_type": "code",
   "execution_count": 18,
   "metadata": {},
   "outputs": [],
   "source": [
    "#import all libraries that will be used\n",
    "import numpy as np\n",
    "import pandas as pd"
   ]
  },
  {
   "cell_type": "code",
   "execution_count": 19,
   "metadata": {},
   "outputs": [
    {
     "data": {
      "text/html": [
       "<div>\n",
       "<style scoped>\n",
       "    .dataframe tbody tr th:only-of-type {\n",
       "        vertical-align: middle;\n",
       "    }\n",
       "\n",
       "    .dataframe tbody tr th {\n",
       "        vertical-align: top;\n",
       "    }\n",
       "\n",
       "    .dataframe thead th {\n",
       "        text-align: right;\n",
       "    }\n",
       "</style>\n",
       "<table border=\"1\" class=\"dataframe\">\n",
       "  <thead>\n",
       "    <tr style=\"text-align: right;\">\n",
       "      <th></th>\n",
       "      <th>ranking_date</th>\n",
       "      <th>rank</th>\n",
       "      <th>name</th>\n",
       "      <th>title</th>\n",
       "      <th>country</th>\n",
       "      <th>rating</th>\n",
       "      <th>games</th>\n",
       "    </tr>\n",
       "  </thead>\n",
       "  <tbody>\n",
       "    <tr>\n",
       "      <th>0</th>\n",
       "      <td>27-07-00</td>\n",
       "      <td>1</td>\n",
       "      <td>Kasparov, Garry</td>\n",
       "      <td>g</td>\n",
       "      <td>RUS</td>\n",
       "      <td>2849</td>\n",
       "      <td>35</td>\n",
       "    </tr>\n",
       "    <tr>\n",
       "      <th>1</th>\n",
       "      <td>27-07-00</td>\n",
       "      <td>2</td>\n",
       "      <td>Kramnik, Vladimir</td>\n",
       "      <td>g</td>\n",
       "      <td>RUS</td>\n",
       "      <td>2770</td>\n",
       "      <td>23</td>\n",
       "    </tr>\n",
       "    <tr>\n",
       "      <th>2</th>\n",
       "      <td>27-07-00</td>\n",
       "      <td>3</td>\n",
       "      <td>Anand, Viswanathan</td>\n",
       "      <td>g</td>\n",
       "      <td>IND</td>\n",
       "      <td>2762</td>\n",
       "      <td>23</td>\n",
       "    </tr>\n",
       "    <tr>\n",
       "      <th>3</th>\n",
       "      <td>27-07-00</td>\n",
       "      <td>4</td>\n",
       "      <td>Morozevich, Alexander</td>\n",
       "      <td>g</td>\n",
       "      <td>RUS</td>\n",
       "      <td>2756</td>\n",
       "      <td>28</td>\n",
       "    </tr>\n",
       "    <tr>\n",
       "      <th>4</th>\n",
       "      <td>27-07-00</td>\n",
       "      <td>5</td>\n",
       "      <td>Adams, Michael</td>\n",
       "      <td>g</td>\n",
       "      <td>ENG</td>\n",
       "      <td>2755</td>\n",
       "      <td>38</td>\n",
       "    </tr>\n",
       "    <tr>\n",
       "      <th>5</th>\n",
       "      <td>27-07-00</td>\n",
       "      <td>6</td>\n",
       "      <td>Shirov, Alexei</td>\n",
       "      <td>g</td>\n",
       "      <td>ESP</td>\n",
       "      <td>2746</td>\n",
       "      <td>33</td>\n",
       "    </tr>\n",
       "    <tr>\n",
       "      <th>6</th>\n",
       "      <td>27-07-00</td>\n",
       "      <td>7</td>\n",
       "      <td>Leko, Peter</td>\n",
       "      <td>g</td>\n",
       "      <td>HUN</td>\n",
       "      <td>2743</td>\n",
       "      <td>29</td>\n",
       "    </tr>\n",
       "  </tbody>\n",
       "</table>\n",
       "</div>"
      ],
      "text/plain": [
       "  ranking_date  rank                   name title country  rating  games\n",
       "0     27-07-00     1        Kasparov, Garry     g     RUS    2849     35\n",
       "1     27-07-00     2      Kramnik, Vladimir     g     RUS    2770     23\n",
       "2     27-07-00     3     Anand, Viswanathan     g     IND    2762     23\n",
       "3     27-07-00     4  Morozevich, Alexander     g     RUS    2756     28\n",
       "4     27-07-00     5         Adams, Michael     g     ENG    2755     38\n",
       "5     27-07-00     6         Shirov, Alexei     g     ESP    2746     33\n",
       "6     27-07-00     7            Leko, Peter     g     HUN    2743     29"
      ]
     },
     "execution_count": 19,
     "metadata": {},
     "output_type": "execute_result"
    }
   ],
   "source": [
    "#import dataset\n",
    "df= pd.read_csv(\"datasets_1417_2662_fide_historical.csv\")\n",
    "\n",
    "#Here i drop column that i will not use in our future analysis\n",
    "drop=(['birth_year'])\n",
    "df.drop(drop,axis='columns',inplace=True)\n",
    "\n",
    "#In this table example , we can see that players ranked by their rating, as it was said before in introduction\n",
    "df.head(7)"
   ]
  },
  {
   "cell_type": "code",
   "execution_count": 17,
   "metadata": {},
   "outputs": [
    {
     "name": "stdout",
     "output_type": "stream",
     "text": [
      "<class 'pandas.core.frame.DataFrame'>\n",
      "RangeIndex: 11511 entries, 0 to 11510\n",
      "Data columns (total 7 columns):\n",
      " #   Column        Non-Null Count  Dtype \n",
      "---  ------        --------------  ----- \n",
      " 0   ranking_date  11511 non-null  object\n",
      " 1   rank          11511 non-null  int64 \n",
      " 2   name          11511 non-null  object\n",
      " 3   title         11511 non-null  object\n",
      " 4   country       11511 non-null  object\n",
      " 5   rating        11511 non-null  int64 \n",
      " 6   games         11511 non-null  int64 \n",
      "dtypes: int64(3), object(4)\n",
      "memory usage: 629.6+ KB\n",
      "None\n",
      "       ranking_date   rank   name  title  country  rating  games\n",
      "0             False  False  False  False    False   False  False\n",
      "1             False  False  False  False    False   False  False\n",
      "2             False  False  False  False    False   False  False\n",
      "3             False  False  False  False    False   False  False\n",
      "4             False  False  False  False    False   False  False\n",
      "...             ...    ...    ...    ...      ...     ...    ...\n",
      "11506         False  False  False  False    False   False  False\n",
      "11507         False  False  False  False    False   False  False\n",
      "11508         False  False  False  False    False   False  False\n",
      "11509         False  False  False  False    False   False  False\n",
      "11510         False  False  False  False    False   False  False\n",
      "\n",
      "[11511 rows x 7 columns]\n",
      "ranking_date    0\n",
      "rank            0\n",
      "name            0\n",
      "title           0\n",
      "country         0\n",
      "rating          0\n",
      "games           0\n",
      "dtype: int64\n"
     ]
    }
   ],
   "source": [
    "#Checking for null values\n",
    "print(df.info())\n",
    "print(df.isnull())\n",
    "print(df.isnull().sum())\n"
   ]
  }
 ],
 "metadata": {
  "kernelspec": {
   "display_name": "Python 3",
   "language": "python",
   "name": "python3"
  },
  "language_info": {
   "codemirror_mode": {
    "name": "ipython",
    "version": 3
   },
   "file_extension": ".py",
   "mimetype": "text/x-python",
   "name": "python",
   "nbconvert_exporter": "python",
   "pygments_lexer": "ipython3",
   "version": "3.8.3"
  }
 },
 "nbformat": 4,
 "nbformat_minor": 4
}
